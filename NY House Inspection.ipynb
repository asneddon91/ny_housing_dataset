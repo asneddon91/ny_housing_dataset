{
 "cells": [
  {
   "cell_type": "code",
   "execution_count": 1,
   "id": "31a84a3b-0972-41f0-b9cd-b06a285b89b8",
   "metadata": {},
   "outputs": [],
   "source": [
    "import pandas as pd\n",
    "import numpy as np"
   ]
  },
  {
   "cell_type": "code",
   "execution_count": 2,
   "id": "4aca0ce4-5bbf-4a8b-8a5f-0c775c26ead9",
   "metadata": {},
   "outputs": [],
   "source": [
    "# pd.options.display.max_columns = 30\n",
    "pd.options.display.float_format = '{:.2f}'.format"
   ]
  },
  {
   "cell_type": "code",
   "execution_count": 3,
   "id": "147165d7-02a2-4919-bb79-4c6780f5aa18",
   "metadata": {},
   "outputs": [],
   "source": [
    "ny_zipcodes = pd.read_csv(\"ny_zipcodes.csv\")"
   ]
  },
  {
   "cell_type": "code",
   "execution_count": 4,
   "id": "9f25081d-f79f-4e4a-b5bf-488f9d46c54c",
   "metadata": {},
   "outputs": [],
   "source": [
    "ny_houses = pd.read_csv(\"NY-House-Dataset.csv\")"
   ]
  },
  {
   "cell_type": "code",
   "execution_count": 5,
   "id": "37af18a5-a703-4faf-9348-014b2071b703",
   "metadata": {},
   "outputs": [
    {
     "name": "stdout",
     "output_type": "stream",
     "text": [
      "<class 'pandas.core.frame.DataFrame'>\n",
      "RangeIndex: 4801 entries, 0 to 4800\n",
      "Data columns (total 17 columns):\n",
      " #   Column                       Non-Null Count  Dtype  \n",
      "---  ------                       --------------  -----  \n",
      " 0   BROKERTITLE                  4801 non-null   object \n",
      " 1   TYPE                         4801 non-null   object \n",
      " 2   PRICE                        4801 non-null   int64  \n",
      " 3   BEDS                         4801 non-null   int64  \n",
      " 4   BATH                         4801 non-null   float64\n",
      " 5   PROPERTYSQFT                 4801 non-null   float64\n",
      " 6   ADDRESS                      4801 non-null   object \n",
      " 7   STATE                        4801 non-null   object \n",
      " 8   MAIN_ADDRESS                 4801 non-null   object \n",
      " 9   ADMINISTRATIVE_AREA_LEVEL_2  4801 non-null   object \n",
      " 10  LOCALITY                     4801 non-null   object \n",
      " 11  SUBLOCALITY                  4801 non-null   object \n",
      " 12  STREET_NAME                  4801 non-null   object \n",
      " 13  LONG_NAME                    4801 non-null   object \n",
      " 14  FORMATTED_ADDRESS            4801 non-null   object \n",
      " 15  LATITUDE                     4801 non-null   float64\n",
      " 16  LONGITUDE                    4801 non-null   float64\n",
      "dtypes: float64(4), int64(2), object(11)\n",
      "memory usage: 637.8+ KB\n"
     ]
    }
   ],
   "source": [
    "ny_houses.info()"
   ]
  },
  {
   "cell_type": "code",
   "execution_count": 6,
   "id": "be42352b-f5b8-4da0-b0c1-271d82d527ba",
   "metadata": {},
   "outputs": [],
   "source": [
    "ny_houses.drop_duplicates(ignore_index=True, inplace=True)"
   ]
  },
  {
   "cell_type": "code",
   "execution_count": 7,
   "id": "329a7106-ef02-4bb4-94b1-c96a5682b5fa",
   "metadata": {},
   "outputs": [],
   "source": [
    "ny_houses.drop(index=292, inplace=True)"
   ]
  },
  {
   "cell_type": "code",
   "execution_count": 8,
   "id": "97c07923-f59f-48e4-b151-1ae641e2ecc0",
   "metadata": {},
   "outputs": [
    {
     "data": {
      "text/html": [
       "<div>\n",
       "<style scoped>\n",
       "    .dataframe tbody tr th:only-of-type {\n",
       "        vertical-align: middle;\n",
       "    }\n",
       "\n",
       "    .dataframe tbody tr th {\n",
       "        vertical-align: top;\n",
       "    }\n",
       "\n",
       "    .dataframe thead th {\n",
       "        text-align: right;\n",
       "    }\n",
       "</style>\n",
       "<table border=\"1\" class=\"dataframe\">\n",
       "  <thead>\n",
       "    <tr style=\"text-align: right;\">\n",
       "      <th></th>\n",
       "      <th>BROKERTITLE</th>\n",
       "      <th>TYPE</th>\n",
       "      <th>PRICE</th>\n",
       "      <th>BEDS</th>\n",
       "      <th>BATH</th>\n",
       "      <th>PROPERTYSQFT</th>\n",
       "      <th>ADDRESS</th>\n",
       "      <th>STATE</th>\n",
       "      <th>MAIN_ADDRESS</th>\n",
       "      <th>ADMINISTRATIVE_AREA_LEVEL_2</th>\n",
       "      <th>LOCALITY</th>\n",
       "      <th>SUBLOCALITY</th>\n",
       "      <th>STREET_NAME</th>\n",
       "      <th>LONG_NAME</th>\n",
       "      <th>FORMATTED_ADDRESS</th>\n",
       "      <th>LATITUDE</th>\n",
       "      <th>LONGITUDE</th>\n",
       "    </tr>\n",
       "  </thead>\n",
       "  <tbody>\n",
       "    <tr>\n",
       "      <th>1</th>\n",
       "      <td>Brokered by Serhant</td>\n",
       "      <td>Condo for sale</td>\n",
       "      <td>195000000</td>\n",
       "      <td>7</td>\n",
       "      <td>10.00</td>\n",
       "      <td>17545.00</td>\n",
       "      <td>Central Park Tower Penthouse-217 W 57th New Yo...</td>\n",
       "      <td>New York, NY 10019</td>\n",
       "      <td>Central Park Tower Penthouse-217 W 57th New Yo...</td>\n",
       "      <td>United States</td>\n",
       "      <td>New York</td>\n",
       "      <td>New York County</td>\n",
       "      <td>New York</td>\n",
       "      <td>West 57th Street</td>\n",
       "      <td>217 W 57th St, New York, NY 10019, USA</td>\n",
       "      <td>40.77</td>\n",
       "      <td>-73.98</td>\n",
       "    </tr>\n",
       "    <tr>\n",
       "      <th>69</th>\n",
       "      <td>Brokered by Sotheby's International Realty - E...</td>\n",
       "      <td>Townhouse for sale</td>\n",
       "      <td>65000000</td>\n",
       "      <td>3</td>\n",
       "      <td>2.37</td>\n",
       "      <td>15200.00</td>\n",
       "      <td>4 E 79th St</td>\n",
       "      <td>New York, NY 10075</td>\n",
       "      <td>4 E 79th StNew York, NY 10075</td>\n",
       "      <td>United States</td>\n",
       "      <td>New York</td>\n",
       "      <td>New York County</td>\n",
       "      <td>New York</td>\n",
       "      <td>East 79th Street</td>\n",
       "      <td>4 E 79th St, New York, NY 10075, USA</td>\n",
       "      <td>40.78</td>\n",
       "      <td>-73.96</td>\n",
       "    </tr>\n",
       "    <tr>\n",
       "      <th>1044</th>\n",
       "      <td>Brokered by COMPASS</td>\n",
       "      <td>Co-op for sale</td>\n",
       "      <td>60000000</td>\n",
       "      <td>8</td>\n",
       "      <td>8.00</td>\n",
       "      <td>2184.21</td>\n",
       "      <td>960 5th Ave Unit 12</td>\n",
       "      <td>Manhattan, NY 10075</td>\n",
       "      <td>960 5th Ave Unit 12Manhattan, NY 10075</td>\n",
       "      <td>New York</td>\n",
       "      <td>New York County</td>\n",
       "      <td>New York</td>\n",
       "      <td>Manhattan</td>\n",
       "      <td>960</td>\n",
       "      <td>960 5th Ave #12, New York, NY 10075, USA</td>\n",
       "      <td>40.78</td>\n",
       "      <td>-73.96</td>\n",
       "    </tr>\n",
       "    <tr>\n",
       "      <th>138</th>\n",
       "      <td>Brokered by Douglas Elliman - 575 Madison Ave</td>\n",
       "      <td>House for sale</td>\n",
       "      <td>56000000</td>\n",
       "      <td>11</td>\n",
       "      <td>10.00</td>\n",
       "      <td>24000.00</td>\n",
       "      <td>9 W 54th St</td>\n",
       "      <td>New York, NY 10019</td>\n",
       "      <td>9 W 54th StNew York, NY 10019</td>\n",
       "      <td>United States</td>\n",
       "      <td>New York</td>\n",
       "      <td>New York County</td>\n",
       "      <td>New York</td>\n",
       "      <td>West 54th Street</td>\n",
       "      <td>9 W 54th St, New York, NY 10019, USA</td>\n",
       "      <td>40.76</td>\n",
       "      <td>-73.98</td>\n",
       "    </tr>\n",
       "    <tr>\n",
       "      <th>4</th>\n",
       "      <td>Brokered by Sotheby's International Realty - E...</td>\n",
       "      <td>Townhouse for sale</td>\n",
       "      <td>55000000</td>\n",
       "      <td>7</td>\n",
       "      <td>2.37</td>\n",
       "      <td>14175.00</td>\n",
       "      <td>5 E 64th St</td>\n",
       "      <td>New York, NY 10065</td>\n",
       "      <td>5 E 64th StNew York, NY 10065</td>\n",
       "      <td>United States</td>\n",
       "      <td>New York</td>\n",
       "      <td>New York County</td>\n",
       "      <td>New York</td>\n",
       "      <td>East 64th Street</td>\n",
       "      <td>5 E 64th St, New York, NY 10065, USA</td>\n",
       "      <td>40.77</td>\n",
       "      <td>-73.97</td>\n",
       "    </tr>\n",
       "  </tbody>\n",
       "</table>\n",
       "</div>"
      ],
      "text/plain": [
       "                                            BROKERTITLE                TYPE  \\\n",
       "1                                   Brokered by Serhant      Condo for sale   \n",
       "69    Brokered by Sotheby's International Realty - E...  Townhouse for sale   \n",
       "1044                                Brokered by COMPASS      Co-op for sale   \n",
       "138       Brokered by Douglas Elliman - 575 Madison Ave      House for sale   \n",
       "4     Brokered by Sotheby's International Realty - E...  Townhouse for sale   \n",
       "\n",
       "          PRICE  BEDS  BATH  PROPERTYSQFT  \\\n",
       "1     195000000     7 10.00      17545.00   \n",
       "69     65000000     3  2.37      15200.00   \n",
       "1044   60000000     8  8.00       2184.21   \n",
       "138    56000000    11 10.00      24000.00   \n",
       "4      55000000     7  2.37      14175.00   \n",
       "\n",
       "                                                ADDRESS                STATE  \\\n",
       "1     Central Park Tower Penthouse-217 W 57th New Yo...   New York, NY 10019   \n",
       "69                                          4 E 79th St   New York, NY 10075   \n",
       "1044                                960 5th Ave Unit 12  Manhattan, NY 10075   \n",
       "138                                         9 W 54th St   New York, NY 10019   \n",
       "4                                           5 E 64th St   New York, NY 10065   \n",
       "\n",
       "                                           MAIN_ADDRESS  \\\n",
       "1     Central Park Tower Penthouse-217 W 57th New Yo...   \n",
       "69                        4 E 79th StNew York, NY 10075   \n",
       "1044             960 5th Ave Unit 12Manhattan, NY 10075   \n",
       "138                       9 W 54th StNew York, NY 10019   \n",
       "4                         5 E 64th StNew York, NY 10065   \n",
       "\n",
       "     ADMINISTRATIVE_AREA_LEVEL_2         LOCALITY      SUBLOCALITY  \\\n",
       "1                  United States         New York  New York County   \n",
       "69                 United States         New York  New York County   \n",
       "1044                    New York  New York County         New York   \n",
       "138                United States         New York  New York County   \n",
       "4                  United States         New York  New York County   \n",
       "\n",
       "     STREET_NAME         LONG_NAME                         FORMATTED_ADDRESS  \\\n",
       "1       New York  West 57th Street    217 W 57th St, New York, NY 10019, USA   \n",
       "69      New York  East 79th Street      4 E 79th St, New York, NY 10075, USA   \n",
       "1044   Manhattan               960  960 5th Ave #12, New York, NY 10075, USA   \n",
       "138     New York  West 54th Street      9 W 54th St, New York, NY 10019, USA   \n",
       "4       New York  East 64th Street      5 E 64th St, New York, NY 10065, USA   \n",
       "\n",
       "      LATITUDE  LONGITUDE  \n",
       "1        40.77     -73.98  \n",
       "69       40.78     -73.96  \n",
       "1044     40.78     -73.96  \n",
       "138      40.76     -73.98  \n",
       "4        40.77     -73.97  "
      ]
     },
     "execution_count": 8,
     "metadata": {},
     "output_type": "execute_result"
    }
   ],
   "source": [
    "ny_houses.nlargest(5, \"PRICE\")"
   ]
  },
  {
   "cell_type": "code",
   "execution_count": 9,
   "id": "f9b9bba6-6f3b-45d2-845f-5cda4063b08a",
   "metadata": {},
   "outputs": [
    {
     "data": {
      "text/html": [
       "<div>\n",
       "<style scoped>\n",
       "    .dataframe tbody tr th:only-of-type {\n",
       "        vertical-align: middle;\n",
       "    }\n",
       "\n",
       "    .dataframe tbody tr th {\n",
       "        vertical-align: top;\n",
       "    }\n",
       "\n",
       "    .dataframe thead th {\n",
       "        text-align: right;\n",
       "    }\n",
       "</style>\n",
       "<table border=\"1\" class=\"dataframe\">\n",
       "  <thead>\n",
       "    <tr style=\"text-align: right;\">\n",
       "      <th></th>\n",
       "      <th>BROKERTITLE</th>\n",
       "      <th>TYPE</th>\n",
       "      <th>PRICE</th>\n",
       "      <th>BEDS</th>\n",
       "      <th>BATH</th>\n",
       "      <th>PROPERTYSQFT</th>\n",
       "      <th>ADDRESS</th>\n",
       "      <th>STATE</th>\n",
       "      <th>MAIN_ADDRESS</th>\n",
       "      <th>ADMINISTRATIVE_AREA_LEVEL_2</th>\n",
       "      <th>LOCALITY</th>\n",
       "      <th>SUBLOCALITY</th>\n",
       "      <th>STREET_NAME</th>\n",
       "      <th>LONG_NAME</th>\n",
       "      <th>FORMATTED_ADDRESS</th>\n",
       "      <th>LATITUDE</th>\n",
       "      <th>LONGITUDE</th>\n",
       "    </tr>\n",
       "  </thead>\n",
       "  <tbody>\n",
       "    <tr>\n",
       "      <th>0</th>\n",
       "      <td>Brokered by Douglas Elliman  -111 Fifth Ave</td>\n",
       "      <td>Condo for sale</td>\n",
       "      <td>315000</td>\n",
       "      <td>2</td>\n",
       "      <td>2.00</td>\n",
       "      <td>1400.00</td>\n",
       "      <td>2 E 55th St Unit 803</td>\n",
       "      <td>New York, NY 10022</td>\n",
       "      <td>2 E 55th St Unit 803New York, NY 10022</td>\n",
       "      <td>New York County</td>\n",
       "      <td>New York</td>\n",
       "      <td>Manhattan</td>\n",
       "      <td>East 55th Street</td>\n",
       "      <td>Regis Residence</td>\n",
       "      <td>Regis Residence, 2 E 55th St #803, New York, N...</td>\n",
       "      <td>40.76</td>\n",
       "      <td>-73.97</td>\n",
       "    </tr>\n",
       "    <tr>\n",
       "      <th>1</th>\n",
       "      <td>Brokered by Serhant</td>\n",
       "      <td>Condo for sale</td>\n",
       "      <td>195000000</td>\n",
       "      <td>7</td>\n",
       "      <td>10.00</td>\n",
       "      <td>17545.00</td>\n",
       "      <td>Central Park Tower Penthouse-217 W 57th New Yo...</td>\n",
       "      <td>New York, NY 10019</td>\n",
       "      <td>Central Park Tower Penthouse-217 W 57th New Yo...</td>\n",
       "      <td>United States</td>\n",
       "      <td>New York</td>\n",
       "      <td>New York County</td>\n",
       "      <td>New York</td>\n",
       "      <td>West 57th Street</td>\n",
       "      <td>217 W 57th St, New York, NY 10019, USA</td>\n",
       "      <td>40.77</td>\n",
       "      <td>-73.98</td>\n",
       "    </tr>\n",
       "    <tr>\n",
       "      <th>2</th>\n",
       "      <td>Brokered by Sowae Corp</td>\n",
       "      <td>House for sale</td>\n",
       "      <td>260000</td>\n",
       "      <td>4</td>\n",
       "      <td>2.00</td>\n",
       "      <td>2015.00</td>\n",
       "      <td>620 Sinclair Ave</td>\n",
       "      <td>Staten Island, NY 10312</td>\n",
       "      <td>620 Sinclair AveStaten Island, NY 10312</td>\n",
       "      <td>United States</td>\n",
       "      <td>New York</td>\n",
       "      <td>Richmond County</td>\n",
       "      <td>Staten Island</td>\n",
       "      <td>Sinclair Avenue</td>\n",
       "      <td>620 Sinclair Ave, Staten Island, NY 10312, USA</td>\n",
       "      <td>40.54</td>\n",
       "      <td>-74.20</td>\n",
       "    </tr>\n",
       "    <tr>\n",
       "      <th>3</th>\n",
       "      <td>Brokered by COMPASS</td>\n",
       "      <td>Condo for sale</td>\n",
       "      <td>69000</td>\n",
       "      <td>3</td>\n",
       "      <td>1.00</td>\n",
       "      <td>445.00</td>\n",
       "      <td>2 E 55th St Unit 908W33</td>\n",
       "      <td>Manhattan, NY 10022</td>\n",
       "      <td>2 E 55th St Unit 908W33Manhattan, NY 10022</td>\n",
       "      <td>United States</td>\n",
       "      <td>New York</td>\n",
       "      <td>New York County</td>\n",
       "      <td>New York</td>\n",
       "      <td>East 55th Street</td>\n",
       "      <td>2 E 55th St, New York, NY 10022, USA</td>\n",
       "      <td>40.76</td>\n",
       "      <td>-73.97</td>\n",
       "    </tr>\n",
       "    <tr>\n",
       "      <th>4</th>\n",
       "      <td>Brokered by Sotheby's International Realty - E...</td>\n",
       "      <td>Townhouse for sale</td>\n",
       "      <td>55000000</td>\n",
       "      <td>7</td>\n",
       "      <td>2.37</td>\n",
       "      <td>14175.00</td>\n",
       "      <td>5 E 64th St</td>\n",
       "      <td>New York, NY 10065</td>\n",
       "      <td>5 E 64th StNew York, NY 10065</td>\n",
       "      <td>United States</td>\n",
       "      <td>New York</td>\n",
       "      <td>New York County</td>\n",
       "      <td>New York</td>\n",
       "      <td>East 64th Street</td>\n",
       "      <td>5 E 64th St, New York, NY 10065, USA</td>\n",
       "      <td>40.77</td>\n",
       "      <td>-73.97</td>\n",
       "    </tr>\n",
       "  </tbody>\n",
       "</table>\n",
       "</div>"
      ],
      "text/plain": [
       "                                         BROKERTITLE                TYPE  \\\n",
       "0        Brokered by Douglas Elliman  -111 Fifth Ave      Condo for sale   \n",
       "1                                Brokered by Serhant      Condo for sale   \n",
       "2                             Brokered by Sowae Corp      House for sale   \n",
       "3                                Brokered by COMPASS      Condo for sale   \n",
       "4  Brokered by Sotheby's International Realty - E...  Townhouse for sale   \n",
       "\n",
       "       PRICE  BEDS  BATH  PROPERTYSQFT  \\\n",
       "0     315000     2  2.00       1400.00   \n",
       "1  195000000     7 10.00      17545.00   \n",
       "2     260000     4  2.00       2015.00   \n",
       "3      69000     3  1.00        445.00   \n",
       "4   55000000     7  2.37      14175.00   \n",
       "\n",
       "                                             ADDRESS                    STATE  \\\n",
       "0                               2 E 55th St Unit 803       New York, NY 10022   \n",
       "1  Central Park Tower Penthouse-217 W 57th New Yo...       New York, NY 10019   \n",
       "2                                   620 Sinclair Ave  Staten Island, NY 10312   \n",
       "3                            2 E 55th St Unit 908W33      Manhattan, NY 10022   \n",
       "4                                        5 E 64th St       New York, NY 10065   \n",
       "\n",
       "                                        MAIN_ADDRESS  \\\n",
       "0             2 E 55th St Unit 803New York, NY 10022   \n",
       "1  Central Park Tower Penthouse-217 W 57th New Yo...   \n",
       "2            620 Sinclair AveStaten Island, NY 10312   \n",
       "3         2 E 55th St Unit 908W33Manhattan, NY 10022   \n",
       "4                      5 E 64th StNew York, NY 10065   \n",
       "\n",
       "  ADMINISTRATIVE_AREA_LEVEL_2  LOCALITY      SUBLOCALITY       STREET_NAME  \\\n",
       "0             New York County  New York        Manhattan  East 55th Street   \n",
       "1               United States  New York  New York County          New York   \n",
       "2               United States  New York  Richmond County     Staten Island   \n",
       "3               United States  New York  New York County          New York   \n",
       "4               United States  New York  New York County          New York   \n",
       "\n",
       "          LONG_NAME                                  FORMATTED_ADDRESS  \\\n",
       "0   Regis Residence  Regis Residence, 2 E 55th St #803, New York, N...   \n",
       "1  West 57th Street             217 W 57th St, New York, NY 10019, USA   \n",
       "2   Sinclair Avenue     620 Sinclair Ave, Staten Island, NY 10312, USA   \n",
       "3  East 55th Street               2 E 55th St, New York, NY 10022, USA   \n",
       "4  East 64th Street               5 E 64th St, New York, NY 10065, USA   \n",
       "\n",
       "   LATITUDE  LONGITUDE  \n",
       "0     40.76     -73.97  \n",
       "1     40.77     -73.98  \n",
       "2     40.54     -74.20  \n",
       "3     40.76     -73.97  \n",
       "4     40.77     -73.97  "
      ]
     },
     "execution_count": 9,
     "metadata": {},
     "output_type": "execute_result"
    }
   ],
   "source": [
    "ny_houses.head()"
   ]
  },
  {
   "cell_type": "code",
   "execution_count": 10,
   "id": "440a41b6-72b6-4eb5-ada5-586b544b4c85",
   "metadata": {},
   "outputs": [
    {
     "data": {
      "text/html": [
       "<div>\n",
       "<style scoped>\n",
       "    .dataframe tbody tr th:only-of-type {\n",
       "        vertical-align: middle;\n",
       "    }\n",
       "\n",
       "    .dataframe tbody tr th {\n",
       "        vertical-align: top;\n",
       "    }\n",
       "\n",
       "    .dataframe thead th {\n",
       "        text-align: right;\n",
       "    }\n",
       "</style>\n",
       "<table border=\"1\" class=\"dataframe\">\n",
       "  <thead>\n",
       "    <tr style=\"text-align: right;\">\n",
       "      <th></th>\n",
       "      <th>BROKERTITLE</th>\n",
       "      <th>TYPE</th>\n",
       "      <th>PRICE</th>\n",
       "      <th>BEDS</th>\n",
       "      <th>BATH</th>\n",
       "      <th>PROPERTYSQFT</th>\n",
       "      <th>ADDRESS</th>\n",
       "      <th>STATE</th>\n",
       "      <th>MAIN_ADDRESS</th>\n",
       "      <th>ADMINISTRATIVE_AREA_LEVEL_2</th>\n",
       "      <th>LOCALITY</th>\n",
       "      <th>SUBLOCALITY</th>\n",
       "      <th>STREET_NAME</th>\n",
       "      <th>LONG_NAME</th>\n",
       "      <th>FORMATTED_ADDRESS</th>\n",
       "      <th>LATITUDE</th>\n",
       "      <th>LONGITUDE</th>\n",
       "    </tr>\n",
       "  </thead>\n",
       "  <tbody>\n",
       "    <tr>\n",
       "      <th>4582</th>\n",
       "      <td>Brokered by COMPASS</td>\n",
       "      <td>Co-op for sale</td>\n",
       "      <td>599000</td>\n",
       "      <td>1</td>\n",
       "      <td>1.00</td>\n",
       "      <td>2184.21</td>\n",
       "      <td>222 E 80th St Apt 3A</td>\n",
       "      <td>Manhattan, NY 10075</td>\n",
       "      <td>222 E 80th St Apt 3AManhattan, NY 10075</td>\n",
       "      <td>New York</td>\n",
       "      <td>New York County</td>\n",
       "      <td>New York</td>\n",
       "      <td>Manhattan</td>\n",
       "      <td>222</td>\n",
       "      <td>222 E 80th St #3a, New York, NY 10075, USA</td>\n",
       "      <td>40.77</td>\n",
       "      <td>-73.96</td>\n",
       "    </tr>\n",
       "    <tr>\n",
       "      <th>4583</th>\n",
       "      <td>Brokered by Mjr Real Estate Llc</td>\n",
       "      <td>Co-op for sale</td>\n",
       "      <td>245000</td>\n",
       "      <td>1</td>\n",
       "      <td>1.00</td>\n",
       "      <td>2184.21</td>\n",
       "      <td>97-40 62 Dr Unit Lg</td>\n",
       "      <td>Rego Park, NY 11374</td>\n",
       "      <td>97-40 62 Dr Unit LgRego Park, NY 11374</td>\n",
       "      <td>United States</td>\n",
       "      <td>New York</td>\n",
       "      <td>Queens County</td>\n",
       "      <td>Queens</td>\n",
       "      <td>62nd Drive</td>\n",
       "      <td>97-40 62nd Dr, Rego Park, NY 11374, USA</td>\n",
       "      <td>40.73</td>\n",
       "      <td>-73.86</td>\n",
       "    </tr>\n",
       "    <tr>\n",
       "      <th>4584</th>\n",
       "      <td>Brokered by Douglas Elliman - 575 Madison Ave</td>\n",
       "      <td>Co-op for sale</td>\n",
       "      <td>1275000</td>\n",
       "      <td>1</td>\n",
       "      <td>1.00</td>\n",
       "      <td>2184.21</td>\n",
       "      <td>427 W 21st St Unit Garden</td>\n",
       "      <td>New York, NY 10011</td>\n",
       "      <td>427 W 21st St Unit GardenNew York, NY 10011</td>\n",
       "      <td>United States</td>\n",
       "      <td>New York</td>\n",
       "      <td>New York County</td>\n",
       "      <td>New York</td>\n",
       "      <td>West 21st Street</td>\n",
       "      <td>427 W 21st St, New York, NY 10011, USA</td>\n",
       "      <td>40.75</td>\n",
       "      <td>-74.00</td>\n",
       "    </tr>\n",
       "    <tr>\n",
       "      <th>4585</th>\n",
       "      <td>Brokered by E Realty International Corp</td>\n",
       "      <td>Condo for sale</td>\n",
       "      <td>598125</td>\n",
       "      <td>2</td>\n",
       "      <td>1.00</td>\n",
       "      <td>655.00</td>\n",
       "      <td>91-23 Corona Ave Unit 4G</td>\n",
       "      <td>Elmhurst, NY 11373</td>\n",
       "      <td>91-23 Corona Ave Unit 4GElmhurst, NY 11373</td>\n",
       "      <td>New York</td>\n",
       "      <td>Queens County</td>\n",
       "      <td>Queens</td>\n",
       "      <td>Flushing</td>\n",
       "      <td>91-23</td>\n",
       "      <td>91-23 Corona Ave. #4b, Flushing, NY 11373, USA</td>\n",
       "      <td>40.74</td>\n",
       "      <td>-73.87</td>\n",
       "    </tr>\n",
       "    <tr>\n",
       "      <th>4586</th>\n",
       "      <td>Brokered by Nyc Realty Brokers Llc</td>\n",
       "      <td>Co-op for sale</td>\n",
       "      <td>349000</td>\n",
       "      <td>1</td>\n",
       "      <td>1.00</td>\n",
       "      <td>750.00</td>\n",
       "      <td>460 Neptune Ave Apt 14O</td>\n",
       "      <td>Brooklyn, NY 11224</td>\n",
       "      <td>460 Neptune Ave Apt 14OBrooklyn, NY 11224</td>\n",
       "      <td>New York</td>\n",
       "      <td>Kings County</td>\n",
       "      <td>Brooklyn</td>\n",
       "      <td>Coney Island</td>\n",
       "      <td>460</td>\n",
       "      <td>460 Neptune Ave #14a, Brooklyn, NY 11224, USA</td>\n",
       "      <td>40.58</td>\n",
       "      <td>-73.97</td>\n",
       "    </tr>\n",
       "  </tbody>\n",
       "</table>\n",
       "</div>"
      ],
      "text/plain": [
       "                                        BROKERTITLE            TYPE    PRICE  \\\n",
       "4582                            Brokered by COMPASS  Co-op for sale   599000   \n",
       "4583                Brokered by Mjr Real Estate Llc  Co-op for sale   245000   \n",
       "4584  Brokered by Douglas Elliman - 575 Madison Ave  Co-op for sale  1275000   \n",
       "4585        Brokered by E Realty International Corp  Condo for sale   598125   \n",
       "4586             Brokered by Nyc Realty Brokers Llc  Co-op for sale   349000   \n",
       "\n",
       "      BEDS  BATH  PROPERTYSQFT                    ADDRESS  \\\n",
       "4582     1  1.00       2184.21       222 E 80th St Apt 3A   \n",
       "4583     1  1.00       2184.21        97-40 62 Dr Unit Lg   \n",
       "4584     1  1.00       2184.21  427 W 21st St Unit Garden   \n",
       "4585     2  1.00        655.00   91-23 Corona Ave Unit 4G   \n",
       "4586     1  1.00        750.00    460 Neptune Ave Apt 14O   \n",
       "\n",
       "                    STATE                                 MAIN_ADDRESS  \\\n",
       "4582  Manhattan, NY 10075      222 E 80th St Apt 3AManhattan, NY 10075   \n",
       "4583  Rego Park, NY 11374       97-40 62 Dr Unit LgRego Park, NY 11374   \n",
       "4584   New York, NY 10011  427 W 21st St Unit GardenNew York, NY 10011   \n",
       "4585   Elmhurst, NY 11373   91-23 Corona Ave Unit 4GElmhurst, NY 11373   \n",
       "4586   Brooklyn, NY 11224    460 Neptune Ave Apt 14OBrooklyn, NY 11224   \n",
       "\n",
       "     ADMINISTRATIVE_AREA_LEVEL_2         LOCALITY      SUBLOCALITY  \\\n",
       "4582                    New York  New York County         New York   \n",
       "4583               United States         New York    Queens County   \n",
       "4584               United States         New York  New York County   \n",
       "4585                    New York    Queens County           Queens   \n",
       "4586                    New York     Kings County         Brooklyn   \n",
       "\n",
       "       STREET_NAME         LONG_NAME  \\\n",
       "4582     Manhattan               222   \n",
       "4583        Queens        62nd Drive   \n",
       "4584      New York  West 21st Street   \n",
       "4585      Flushing             91-23   \n",
       "4586  Coney Island               460   \n",
       "\n",
       "                                   FORMATTED_ADDRESS  LATITUDE  LONGITUDE  \n",
       "4582      222 E 80th St #3a, New York, NY 10075, USA     40.77     -73.96  \n",
       "4583         97-40 62nd Dr, Rego Park, NY 11374, USA     40.73     -73.86  \n",
       "4584          427 W 21st St, New York, NY 10011, USA     40.75     -74.00  \n",
       "4585  91-23 Corona Ave. #4b, Flushing, NY 11373, USA     40.74     -73.87  \n",
       "4586   460 Neptune Ave #14a, Brooklyn, NY 11224, USA     40.58     -73.97  "
      ]
     },
     "execution_count": 10,
     "metadata": {},
     "output_type": "execute_result"
    }
   ],
   "source": [
    "ny_houses.tail()"
   ]
  },
  {
   "cell_type": "code",
   "execution_count": 11,
   "id": "4475a541-8fa9-4636-a4d6-2ded71fc2d50",
   "metadata": {},
   "outputs": [
    {
     "data": {
      "text/html": [
       "<div>\n",
       "<style scoped>\n",
       "    .dataframe tbody tr th:only-of-type {\n",
       "        vertical-align: middle;\n",
       "    }\n",
       "\n",
       "    .dataframe tbody tr th {\n",
       "        vertical-align: top;\n",
       "    }\n",
       "\n",
       "    .dataframe thead th {\n",
       "        text-align: right;\n",
       "    }\n",
       "</style>\n",
       "<table border=\"1\" class=\"dataframe\">\n",
       "  <thead>\n",
       "    <tr style=\"text-align: right;\">\n",
       "      <th></th>\n",
       "      <th>PRICE</th>\n",
       "      <th>BEDS</th>\n",
       "      <th>BATH</th>\n",
       "      <th>PROPERTYSQFT</th>\n",
       "      <th>LATITUDE</th>\n",
       "      <th>LONGITUDE</th>\n",
       "    </tr>\n",
       "  </thead>\n",
       "  <tbody>\n",
       "    <tr>\n",
       "      <th>count</th>\n",
       "      <td>4586.00</td>\n",
       "      <td>4586.00</td>\n",
       "      <td>4586.00</td>\n",
       "      <td>4586.00</td>\n",
       "      <td>4586.00</td>\n",
       "      <td>4586.00</td>\n",
       "    </tr>\n",
       "    <tr>\n",
       "      <th>mean</th>\n",
       "      <td>1913421.47</td>\n",
       "      <td>3.37</td>\n",
       "      <td>2.38</td>\n",
       "      <td>2176.01</td>\n",
       "      <td>40.71</td>\n",
       "      <td>-73.94</td>\n",
       "    </tr>\n",
       "    <tr>\n",
       "      <th>std</th>\n",
       "      <td>4979039.91</td>\n",
       "      <td>2.63</td>\n",
       "      <td>1.97</td>\n",
       "      <td>2280.42</td>\n",
       "      <td>0.09</td>\n",
       "      <td>0.10</td>\n",
       "    </tr>\n",
       "    <tr>\n",
       "      <th>min</th>\n",
       "      <td>2494.00</td>\n",
       "      <td>1.00</td>\n",
       "      <td>0.00</td>\n",
       "      <td>230.00</td>\n",
       "      <td>40.50</td>\n",
       "      <td>-74.25</td>\n",
       "    </tr>\n",
       "    <tr>\n",
       "      <th>25%</th>\n",
       "      <td>499000.00</td>\n",
       "      <td>2.00</td>\n",
       "      <td>1.00</td>\n",
       "      <td>1200.00</td>\n",
       "      <td>40.64</td>\n",
       "      <td>-73.99</td>\n",
       "    </tr>\n",
       "    <tr>\n",
       "      <th>50%</th>\n",
       "      <td>825000.00</td>\n",
       "      <td>3.00</td>\n",
       "      <td>2.00</td>\n",
       "      <td>2184.21</td>\n",
       "      <td>40.73</td>\n",
       "      <td>-73.95</td>\n",
       "    </tr>\n",
       "    <tr>\n",
       "      <th>75%</th>\n",
       "      <td>1497250.00</td>\n",
       "      <td>4.00</td>\n",
       "      <td>3.00</td>\n",
       "      <td>2184.21</td>\n",
       "      <td>40.77</td>\n",
       "      <td>-73.87</td>\n",
       "    </tr>\n",
       "    <tr>\n",
       "      <th>max</th>\n",
       "      <td>195000000.00</td>\n",
       "      <td>50.00</td>\n",
       "      <td>50.00</td>\n",
       "      <td>65535.00</td>\n",
       "      <td>40.91</td>\n",
       "      <td>-73.70</td>\n",
       "    </tr>\n",
       "  </tbody>\n",
       "</table>\n",
       "</div>"
      ],
      "text/plain": [
       "             PRICE    BEDS    BATH  PROPERTYSQFT  LATITUDE  LONGITUDE\n",
       "count      4586.00 4586.00 4586.00       4586.00   4586.00    4586.00\n",
       "mean    1913421.47    3.37    2.38       2176.01     40.71     -73.94\n",
       "std     4979039.91    2.63    1.97       2280.42      0.09       0.10\n",
       "min        2494.00    1.00    0.00        230.00     40.50     -74.25\n",
       "25%      499000.00    2.00    1.00       1200.00     40.64     -73.99\n",
       "50%      825000.00    3.00    2.00       2184.21     40.73     -73.95\n",
       "75%     1497250.00    4.00    3.00       2184.21     40.77     -73.87\n",
       "max   195000000.00   50.00   50.00      65535.00     40.91     -73.70"
      ]
     },
     "execution_count": 11,
     "metadata": {},
     "output_type": "execute_result"
    }
   ],
   "source": [
    "ny_houses.describe()"
   ]
  },
  {
   "cell_type": "code",
   "execution_count": 12,
   "id": "0c462607-58e9-4711-816b-f260c11b4d49",
   "metadata": {},
   "outputs": [],
   "source": [
    "ny_houses.columns = ny_houses.columns.str.lower()"
   ]
  },
  {
   "cell_type": "code",
   "execution_count": 13,
   "id": "657aa7df-2b2a-4bc3-b837-78f2c917944f",
   "metadata": {},
   "outputs": [],
   "source": [
    "# ny_houses[\"zipcode\"] = ny_houses.main_address.str[-5:]"
   ]
  },
  {
   "cell_type": "code",
   "execution_count": 14,
   "id": "ace161a3-ca40-40bd-b82b-114e7ea00b61",
   "metadata": {},
   "outputs": [],
   "source": [
    "ny_houses.drop(columns=[\"administrative_area_level_2\", \"main_address\", \"long_name\", \"address\", \"formatted_address\", \"street_name\"], inplace=True)"
   ]
  },
  {
   "cell_type": "code",
   "execution_count": 15,
   "id": "f0a3a7ee-634f-426f-a042-9d18c85d4985",
   "metadata": {},
   "outputs": [
    {
     "data": {
      "text/html": [
       "<div>\n",
       "<style scoped>\n",
       "    .dataframe tbody tr th:only-of-type {\n",
       "        vertical-align: middle;\n",
       "    }\n",
       "\n",
       "    .dataframe tbody tr th {\n",
       "        vertical-align: top;\n",
       "    }\n",
       "\n",
       "    .dataframe thead th {\n",
       "        text-align: right;\n",
       "    }\n",
       "</style>\n",
       "<table border=\"1\" class=\"dataframe\">\n",
       "  <thead>\n",
       "    <tr style=\"text-align: right;\">\n",
       "      <th></th>\n",
       "      <th>brokertitle</th>\n",
       "      <th>type</th>\n",
       "      <th>price</th>\n",
       "      <th>beds</th>\n",
       "      <th>bath</th>\n",
       "      <th>propertysqft</th>\n",
       "      <th>state</th>\n",
       "      <th>locality</th>\n",
       "      <th>sublocality</th>\n",
       "      <th>latitude</th>\n",
       "      <th>longitude</th>\n",
       "    </tr>\n",
       "  </thead>\n",
       "  <tbody>\n",
       "    <tr>\n",
       "      <th>0</th>\n",
       "      <td>Brokered by Douglas Elliman  -111 Fifth Ave</td>\n",
       "      <td>Condo for sale</td>\n",
       "      <td>315000</td>\n",
       "      <td>2</td>\n",
       "      <td>2.00</td>\n",
       "      <td>1400.00</td>\n",
       "      <td>New York, NY 10022</td>\n",
       "      <td>New York</td>\n",
       "      <td>Manhattan</td>\n",
       "      <td>40.76</td>\n",
       "      <td>-73.97</td>\n",
       "    </tr>\n",
       "    <tr>\n",
       "      <th>1</th>\n",
       "      <td>Brokered by Serhant</td>\n",
       "      <td>Condo for sale</td>\n",
       "      <td>195000000</td>\n",
       "      <td>7</td>\n",
       "      <td>10.00</td>\n",
       "      <td>17545.00</td>\n",
       "      <td>New York, NY 10019</td>\n",
       "      <td>New York</td>\n",
       "      <td>New York County</td>\n",
       "      <td>40.77</td>\n",
       "      <td>-73.98</td>\n",
       "    </tr>\n",
       "    <tr>\n",
       "      <th>2</th>\n",
       "      <td>Brokered by Sowae Corp</td>\n",
       "      <td>House for sale</td>\n",
       "      <td>260000</td>\n",
       "      <td>4</td>\n",
       "      <td>2.00</td>\n",
       "      <td>2015.00</td>\n",
       "      <td>Staten Island, NY 10312</td>\n",
       "      <td>New York</td>\n",
       "      <td>Richmond County</td>\n",
       "      <td>40.54</td>\n",
       "      <td>-74.20</td>\n",
       "    </tr>\n",
       "    <tr>\n",
       "      <th>3</th>\n",
       "      <td>Brokered by COMPASS</td>\n",
       "      <td>Condo for sale</td>\n",
       "      <td>69000</td>\n",
       "      <td>3</td>\n",
       "      <td>1.00</td>\n",
       "      <td>445.00</td>\n",
       "      <td>Manhattan, NY 10022</td>\n",
       "      <td>New York</td>\n",
       "      <td>New York County</td>\n",
       "      <td>40.76</td>\n",
       "      <td>-73.97</td>\n",
       "    </tr>\n",
       "    <tr>\n",
       "      <th>4</th>\n",
       "      <td>Brokered by Sotheby's International Realty - E...</td>\n",
       "      <td>Townhouse for sale</td>\n",
       "      <td>55000000</td>\n",
       "      <td>7</td>\n",
       "      <td>2.37</td>\n",
       "      <td>14175.00</td>\n",
       "      <td>New York, NY 10065</td>\n",
       "      <td>New York</td>\n",
       "      <td>New York County</td>\n",
       "      <td>40.77</td>\n",
       "      <td>-73.97</td>\n",
       "    </tr>\n",
       "    <tr>\n",
       "      <th>...</th>\n",
       "      <td>...</td>\n",
       "      <td>...</td>\n",
       "      <td>...</td>\n",
       "      <td>...</td>\n",
       "      <td>...</td>\n",
       "      <td>...</td>\n",
       "      <td>...</td>\n",
       "      <td>...</td>\n",
       "      <td>...</td>\n",
       "      <td>...</td>\n",
       "      <td>...</td>\n",
       "    </tr>\n",
       "    <tr>\n",
       "      <th>4582</th>\n",
       "      <td>Brokered by COMPASS</td>\n",
       "      <td>Co-op for sale</td>\n",
       "      <td>599000</td>\n",
       "      <td>1</td>\n",
       "      <td>1.00</td>\n",
       "      <td>2184.21</td>\n",
       "      <td>Manhattan, NY 10075</td>\n",
       "      <td>New York County</td>\n",
       "      <td>New York</td>\n",
       "      <td>40.77</td>\n",
       "      <td>-73.96</td>\n",
       "    </tr>\n",
       "    <tr>\n",
       "      <th>4583</th>\n",
       "      <td>Brokered by Mjr Real Estate Llc</td>\n",
       "      <td>Co-op for sale</td>\n",
       "      <td>245000</td>\n",
       "      <td>1</td>\n",
       "      <td>1.00</td>\n",
       "      <td>2184.21</td>\n",
       "      <td>Rego Park, NY 11374</td>\n",
       "      <td>New York</td>\n",
       "      <td>Queens County</td>\n",
       "      <td>40.73</td>\n",
       "      <td>-73.86</td>\n",
       "    </tr>\n",
       "    <tr>\n",
       "      <th>4584</th>\n",
       "      <td>Brokered by Douglas Elliman - 575 Madison Ave</td>\n",
       "      <td>Co-op for sale</td>\n",
       "      <td>1275000</td>\n",
       "      <td>1</td>\n",
       "      <td>1.00</td>\n",
       "      <td>2184.21</td>\n",
       "      <td>New York, NY 10011</td>\n",
       "      <td>New York</td>\n",
       "      <td>New York County</td>\n",
       "      <td>40.75</td>\n",
       "      <td>-74.00</td>\n",
       "    </tr>\n",
       "    <tr>\n",
       "      <th>4585</th>\n",
       "      <td>Brokered by E Realty International Corp</td>\n",
       "      <td>Condo for sale</td>\n",
       "      <td>598125</td>\n",
       "      <td>2</td>\n",
       "      <td>1.00</td>\n",
       "      <td>655.00</td>\n",
       "      <td>Elmhurst, NY 11373</td>\n",
       "      <td>Queens County</td>\n",
       "      <td>Queens</td>\n",
       "      <td>40.74</td>\n",
       "      <td>-73.87</td>\n",
       "    </tr>\n",
       "    <tr>\n",
       "      <th>4586</th>\n",
       "      <td>Brokered by Nyc Realty Brokers Llc</td>\n",
       "      <td>Co-op for sale</td>\n",
       "      <td>349000</td>\n",
       "      <td>1</td>\n",
       "      <td>1.00</td>\n",
       "      <td>750.00</td>\n",
       "      <td>Brooklyn, NY 11224</td>\n",
       "      <td>Kings County</td>\n",
       "      <td>Brooklyn</td>\n",
       "      <td>40.58</td>\n",
       "      <td>-73.97</td>\n",
       "    </tr>\n",
       "  </tbody>\n",
       "</table>\n",
       "<p>4586 rows × 11 columns</p>\n",
       "</div>"
      ],
      "text/plain": [
       "                                            brokertitle                type  \\\n",
       "0           Brokered by Douglas Elliman  -111 Fifth Ave      Condo for sale   \n",
       "1                                   Brokered by Serhant      Condo for sale   \n",
       "2                                Brokered by Sowae Corp      House for sale   \n",
       "3                                   Brokered by COMPASS      Condo for sale   \n",
       "4     Brokered by Sotheby's International Realty - E...  Townhouse for sale   \n",
       "...                                                 ...                 ...   \n",
       "4582                                Brokered by COMPASS      Co-op for sale   \n",
       "4583                    Brokered by Mjr Real Estate Llc      Co-op for sale   \n",
       "4584      Brokered by Douglas Elliman - 575 Madison Ave      Co-op for sale   \n",
       "4585            Brokered by E Realty International Corp      Condo for sale   \n",
       "4586                 Brokered by Nyc Realty Brokers Llc      Co-op for sale   \n",
       "\n",
       "          price  beds  bath  propertysqft                    state  \\\n",
       "0        315000     2  2.00       1400.00       New York, NY 10022   \n",
       "1     195000000     7 10.00      17545.00       New York, NY 10019   \n",
       "2        260000     4  2.00       2015.00  Staten Island, NY 10312   \n",
       "3         69000     3  1.00        445.00      Manhattan, NY 10022   \n",
       "4      55000000     7  2.37      14175.00       New York, NY 10065   \n",
       "...         ...   ...   ...           ...                      ...   \n",
       "4582     599000     1  1.00       2184.21      Manhattan, NY 10075   \n",
       "4583     245000     1  1.00       2184.21      Rego Park, NY 11374   \n",
       "4584    1275000     1  1.00       2184.21       New York, NY 10011   \n",
       "4585     598125     2  1.00        655.00       Elmhurst, NY 11373   \n",
       "4586     349000     1  1.00        750.00       Brooklyn, NY 11224   \n",
       "\n",
       "             locality      sublocality  latitude  longitude  \n",
       "0            New York        Manhattan     40.76     -73.97  \n",
       "1            New York  New York County     40.77     -73.98  \n",
       "2            New York  Richmond County     40.54     -74.20  \n",
       "3            New York  New York County     40.76     -73.97  \n",
       "4            New York  New York County     40.77     -73.97  \n",
       "...               ...              ...       ...        ...  \n",
       "4582  New York County         New York     40.77     -73.96  \n",
       "4583         New York    Queens County     40.73     -73.86  \n",
       "4584         New York  New York County     40.75     -74.00  \n",
       "4585    Queens County           Queens     40.74     -73.87  \n",
       "4586     Kings County         Brooklyn     40.58     -73.97  \n",
       "\n",
       "[4586 rows x 11 columns]"
      ]
     },
     "execution_count": 15,
     "metadata": {},
     "output_type": "execute_result"
    }
   ],
   "source": [
    "ny_houses"
   ]
  },
  {
   "cell_type": "code",
   "execution_count": 16,
   "id": "d8dcba31-3461-424f-9e2c-c62eaaedf366",
   "metadata": {},
   "outputs": [],
   "source": [
    "# ny_houses[\"suburb\"]\n",
    "ny_houses[\"suburb\"] = ny_houses.state.str.split(\",\", expand=True).iloc[:, 0]"
   ]
  },
  {
   "cell_type": "code",
   "execution_count": 17,
   "id": "6a87ba93-bdaf-4a11-a83e-151d0d09929e",
   "metadata": {},
   "outputs": [],
   "source": [
    "ny_houses[\"zip_code\"] = ny_houses.state.str[-5:]"
   ]
  },
  {
   "cell_type": "code",
   "execution_count": 18,
   "id": "2a5f20b6-de60-47f6-97cf-639d0696f936",
   "metadata": {},
   "outputs": [],
   "source": [
    "# ny_houses.loc[~ny_houses.brokertitle.str.contains(\"Brokered by\")]"
   ]
  },
  {
   "cell_type": "code",
   "execution_count": 19,
   "id": "74f65266-a84d-49e3-9620-a235e077e718",
   "metadata": {},
   "outputs": [],
   "source": [
    "ny_houses[\"broker\"] = ny_houses.brokertitle.str.split(\"Brokered by\", expand=True).iloc[:, 1].str.split(\"-\", expand=True).iloc[:, 0].str.strip()"
   ]
  },
  {
   "cell_type": "code",
   "execution_count": 20,
   "id": "5c73b5ff-818d-4c56-ab1a-c709c143252a",
   "metadata": {},
   "outputs": [],
   "source": [
    "ny_houses.loc[ny_houses.broker.isna(), \"broker\"] = \"No Broker\""
   ]
  },
  {
   "cell_type": "code",
   "execution_count": 21,
   "id": "768d1b20-da5f-460a-b9d6-87829cffd87f",
   "metadata": {},
   "outputs": [],
   "source": [
    "ny_houses.drop(columns=[\"brokertitle\", \"state\"], inplace=True)"
   ]
  },
  {
   "cell_type": "code",
   "execution_count": 22,
   "id": "85c9a814-1343-4574-8eeb-677e037d4a31",
   "metadata": {},
   "outputs": [],
   "source": [
    "ny_houses[\"broker\"] = ny_houses.broker.str.title()"
   ]
  },
  {
   "cell_type": "code",
   "execution_count": 23,
   "id": "24b762df-b868-475c-a127-ad7d8f6684e0",
   "metadata": {},
   "outputs": [],
   "source": [
    "ny_houses.loc[(ny_houses.broker.str.contains(\"Corcoran\")) & (~ny_houses.broker.str.contains(\"Llc\")), \"broker\"] = \"Corcoran\""
   ]
  },
  {
   "cell_type": "code",
   "execution_count": 24,
   "id": "cf9c9728-14bd-4190-b927-333735c17cd3",
   "metadata": {},
   "outputs": [],
   "source": [
    "ny_houses.loc[ny_houses.broker.str.contains(\"Sotheby\"), \"broker\"] = \"Sotheby's International Realty\""
   ]
  },
  {
   "cell_type": "code",
   "execution_count": 25,
   "id": "f085a158-5f26-4cc8-bce6-861d753f83af",
   "metadata": {},
   "outputs": [],
   "source": [
    "ny_houses.loc[ny_houses.broker.str.contains(\"Keller Williams\"), \"broker\"] = \"Keller Williams Realty\""
   ]
  },
  {
   "cell_type": "code",
   "execution_count": 26,
   "id": "23153107-486e-4679-974f-cc11a7199415",
   "metadata": {},
   "outputs": [],
   "source": [
    "ny_houses.loc[ny_houses.broker.str.contains(\"Christie\"), \"broker\"] = \"Christie's Int. Real Estate Group\""
   ]
  },
  {
   "cell_type": "code",
   "execution_count": 27,
   "id": "5829a69b-6aaa-45a5-89f4-28724d310d76",
   "metadata": {},
   "outputs": [],
   "source": [
    "ny_houses.loc[ny_houses.broker.str.contains(\"Century 21\"), \"broker\"] = \"Century 21\""
   ]
  },
  {
   "cell_type": "code",
   "execution_count": 28,
   "id": "083ce64f-50fd-465e-b092-3b329f9d201f",
   "metadata": {},
   "outputs": [],
   "source": [
    "ny_houses.loc[ny_houses.broker.str.contains(\"Compass\"), \"broker\"] = \"Compass\""
   ]
  },
  {
   "cell_type": "code",
   "execution_count": 29,
   "id": "b735287c-5a71-4261-9648-cd5c5e3b59d5",
   "metadata": {},
   "outputs": [],
   "source": [
    "ny_houses.loc[ny_houses.broker.str.contains(\"Nest Seekers\"), \"broker\"] = \"Nest Seekers International\""
   ]
  },
  {
   "cell_type": "code",
   "execution_count": 30,
   "id": "9244d587-51b7-420c-a1a7-201ab652c47a",
   "metadata": {},
   "outputs": [],
   "source": [
    "ny_houses.loc[ny_houses.broker.str.contains(\"Coldwell\"), \"broker\"] = \"Coldwell Banker Realty\""
   ]
  },
  {
   "cell_type": "code",
   "execution_count": 31,
   "id": "65d5befb-3790-425f-84d4-f8b1f3226485",
   "metadata": {},
   "outputs": [],
   "source": [
    "ny_houses.loc[ny_houses.broker.str.contains(\"Exp Realty\"), \"broker\"] = \"Exp Realty\""
   ]
  },
  {
   "cell_type": "code",
   "execution_count": 32,
   "id": "07ac2dc4-0eed-479f-96b6-19a276ba4893",
   "metadata": {},
   "outputs": [],
   "source": [
    "ny_houses.loc[ny_houses.broker.str.contains(\"Brown Harris\"), \"broker\"] = \"Brown Harris Stevens\""
   ]
  },
  {
   "cell_type": "code",
   "execution_count": 33,
   "id": "4b48b9be-aa2b-45ac-9621-9445b228b15a",
   "metadata": {},
   "outputs": [],
   "source": [
    "ny_houses.loc[ny_houses.broker.str.contains(\"Amerihomes\"), \"broker\"] = \"Amerihomes Realty\""
   ]
  },
  {
   "cell_type": "code",
   "execution_count": 34,
   "id": "d4946fc9-56fa-4ec0-bdc8-0e8391f23679",
   "metadata": {},
   "outputs": [],
   "source": [
    "ny_houses.loc[ny_houses.broker.str.contains(\"Engel\"), \"broker\"] = \"Engel & Volkers\""
   ]
  },
  {
   "cell_type": "code",
   "execution_count": 35,
   "id": "885575bc-583c-4ced-b278-a7358e79b129",
   "metadata": {},
   "outputs": [],
   "source": [
    "ny_houses.loc[ny_houses.broker.str.contains(\"Ben Bay\"), \"broker\"] = \"Ben Bay Realty\""
   ]
  },
  {
   "cell_type": "code",
   "execution_count": 36,
   "id": "67ef1f03-f0f2-4aee-8962-c16b82ace515",
   "metadata": {},
   "outputs": [],
   "source": [
    "ny_houses.loc[ny_houses.broker.str.contains(\"Ashford Homes\"), \"broker\"] = \"Ashford Homes\""
   ]
  },
  {
   "cell_type": "code",
   "execution_count": 37,
   "id": "2d871a1e-6e75-4d21-976b-9cad6e00caae",
   "metadata": {},
   "outputs": [],
   "source": [
    "ny_houses.loc[ny_houses.broker.str.contains(\"Behfar Team\"), \"broker\"] = \"Behfar Team\""
   ]
  },
  {
   "cell_type": "code",
   "execution_count": 38,
   "id": "5e7074a3-e038-4a33-97a4-daf12ff1c9c9",
   "metadata": {},
   "outputs": [],
   "source": [
    "ny_houses.loc[ny_houses.broker.str.contains(\"Bergen Basin\"), \"broker\"] = \"Bergen Basin Realty\""
   ]
  },
  {
   "cell_type": "code",
   "execution_count": 39,
   "id": "ade1722b-a16d-4648-8e56-e59a60f16770",
   "metadata": {},
   "outputs": [],
   "source": [
    "ny_houses.loc[ny_houses.broker.str.contains(\"Berkshire Hathaway\"), \"broker\"] = \"Berkshire Hathaway\""
   ]
  },
  {
   "cell_type": "code",
   "execution_count": 40,
   "id": "bfd83b72-efe2-4d4e-9445-a3a9ae2e8694",
   "metadata": {},
   "outputs": [],
   "source": [
    "ny_houses.loc[ny_houses.broker.str.contains(\"Bhhs\"), \"broker\"] = \"BHHS\""
   ]
  },
  {
   "cell_type": "code",
   "execution_count": 41,
   "id": "20a7149b-432f-4e45-b956-34166b22d2aa",
   "metadata": {},
   "outputs": [],
   "source": [
    "ny_houses.loc[ny_houses.broker.str.contains(\"Brooklyn Real Property\"), \"broker\"] = \"Brooklyn Real Property\""
   ]
  },
  {
   "cell_type": "code",
   "execution_count": 42,
   "id": "01634f3e-6dea-4d73-9235-b73875c3595f",
   "metadata": {},
   "outputs": [],
   "source": [
    "ny_houses.loc[ny_houses.broker.str.contains(\"Rutenberg\"), \"broker\"] = \"Charles Rutenberg Realty\""
   ]
  },
  {
   "cell_type": "code",
   "execution_count": 43,
   "id": "ea97ff62-25c6-4dc3-8ffa-1ad9145a2e23",
   "metadata": {},
   "outputs": [],
   "source": [
    "ny_houses.loc[ny_houses.broker.str.contains(\"Continental\"), \"broker\"]  = \"Continental Real Estate Group\""
   ]
  },
  {
   "cell_type": "code",
   "execution_count": 44,
   "id": "b6683236-ef21-483c-bb7e-80d6accd2142",
   "metadata": {},
   "outputs": [],
   "source": [
    "ny_houses.loc[ny_houses.broker.str.contains(\"Cruz Network\"), \"broker\"] = \"Cruz Network Realty\""
   ]
  },
  {
   "cell_type": "code",
   "execution_count": 45,
   "id": "d09ade01-7c41-4f7b-99bf-87cf64937ab6",
   "metadata": {},
   "outputs": [],
   "source": [
    "ny_houses.loc[ny_houses.broker.str.contains(\"Dom Realty\"), \"broker\"] = \"Dom Realty Inc\""
   ]
  },
  {
   "cell_type": "code",
   "execution_count": 46,
   "id": "5c6f524b-9559-48d9-bd04-157d8f8704dd",
   "metadata": {},
   "outputs": [],
   "source": [
    "ny_houses.loc[ny_houses.broker.str.contains(\"East Coast Realty\"), \"broker\"] = \"East Coast Realty Partners\""
   ]
  },
  {
   "cell_type": "code",
   "execution_count": 47,
   "id": "8b9bfb87-3dc8-4e22-8d54-5c1655f323c3",
   "metadata": {},
   "outputs": [],
   "source": [
    "ny_houses.loc[ny_houses.broker.str.contains(\"Exit Realty\"), \"broker\"] = \"Exit Realty Group\""
   ]
  },
  {
   "cell_type": "code",
   "execution_count": 48,
   "id": "dd324282-7901-4478-985f-adb459938820",
   "metadata": {},
   "outputs": [],
   "source": [
    "ny_houses.loc[ny_houses.broker.str.contains(\"Exp Commercial\"), \"broker\"] = \"Exp Realty\""
   ]
  },
  {
   "cell_type": "code",
   "execution_count": 49,
   "id": "ed96aec4-15ce-469d-a48d-decaf37ea0d9",
   "metadata": {},
   "outputs": [],
   "source": [
    "ny_houses.loc[ny_houses.broker.str.contains(\"Fillmore\"), \"broker\"] = \"Fillmore Real Estate\""
   ]
  },
  {
   "cell_type": "code",
   "execution_count": 50,
   "id": "286230ca-cb7e-4ec2-b12c-15e3940ce5ff",
   "metadata": {},
   "outputs": [],
   "source": [
    "ny_houses.loc[ny_houses.broker.str.contains(\"Four Seasons\"), \"broker\"] = \"Four Seasons Realty\""
   ]
  },
  {
   "cell_type": "code",
   "execution_count": 51,
   "id": "bfe8a0da-4f33-40b0-907a-c1dde15420e8",
   "metadata": {},
   "outputs": [],
   "source": [
    "ny_houses.loc[ny_houses.broker.str.contains(\"Houlihan Lawrence\"), \"broker\"] = \"Houlihan Lawrence\""
   ]
  },
  {
   "cell_type": "code",
   "execution_count": 52,
   "id": "ddd7b651-e8be-4b78-b119-12ae2e26dddf",
   "metadata": {},
   "outputs": [],
   "source": [
    "ny_houses.loc[ny_houses.broker.str.contains(\"Island Advantage\"), \"broker\"] = \"Island Advantage Realty\""
   ]
  },
  {
   "cell_type": "code",
   "execution_count": 53,
   "id": "58fc8cfa-a469-4947-b377-e8fa7eab7885",
   "metadata": {},
   "outputs": [],
   "source": [
    "ny_houses.loc[ny_houses.broker.str.contains(\"Ivey North\"), \"broker\"] = \"Ivey North\""
   ]
  },
  {
   "cell_type": "code",
   "execution_count": 54,
   "id": "99fe370b-1662-4865-8ed2-503e45fa5ea6",
   "metadata": {},
   "outputs": [],
   "source": [
    "ny_houses.loc[ny_houses.broker.str.contains(\"Milo\"), \"broker\"] = \"J Milo Real Estate\""
   ]
  },
  {
   "cell_type": "code",
   "execution_count": 55,
   "id": "3b10ba2a-3cdf-4560-961d-f4de50bcb62e",
   "metadata": {},
   "outputs": [],
   "source": [
    "ny_houses.loc[ny_houses.broker.str.contains(\"Landseair\"), \"broker\"] = \"Landseair Real Estate Group\""
   ]
  },
  {
   "cell_type": "code",
   "execution_count": 56,
   "id": "368ea6c9-3b73-4a4e-9f26-fe3177f188ac",
   "metadata": {},
   "outputs": [],
   "source": [
    "ny_houses.loc[ny_houses.broker.str.contains(\"Property Professional\"), \"broker\"] = \"Property Professionals Realty\""
   ]
  },
  {
   "cell_type": "code",
   "execution_count": 57,
   "id": "2d031603-6d22-4fc1-b345-09d5aa320796",
   "metadata": {},
   "outputs": [],
   "source": [
    "ny_houses.loc[ny_houses.broker.str.contains(\"Re Max\"), \"broker\"] = \"Re Max Real Estate Professionals\""
   ]
  },
  {
   "cell_type": "code",
   "execution_count": 58,
   "id": "f4f66820-1de5-4b04-8a97-6975d0df2c10",
   "metadata": {},
   "outputs": [],
   "source": [
    "ny_houses.loc[ny_houses.broker.str.contains(\"Re/Max\"), \"broker\"] = \"Re Max Real Estate Professionals\""
   ]
  },
  {
   "cell_type": "code",
   "execution_count": 59,
   "id": "d2b5e4c5-a7e0-4759-b9cb-fce56e083595",
   "metadata": {},
   "outputs": [],
   "source": [
    "ny_houses.loc[ny_houses.broker.str.contains(\"Realty Connect\"), \"broker\"] = \"Realty Connect USA\""
   ]
  },
  {
   "cell_type": "code",
   "execution_count": 60,
   "id": "86c2507e-5743-4d91-a5ee-e52c4316aa0c",
   "metadata": {},
   "outputs": [],
   "source": [
    "ny_houses.loc[ny_houses.broker.str.contains(\"Realty Executives\"), \"broker\"] = \"Realty Executives Group\""
   ]
  },
  {
   "cell_type": "code",
   "execution_count": 61,
   "id": "aeb0196a-b61c-4244-8212-26581391c6ad",
   "metadata": {},
   "outputs": [],
   "source": [
    "ny_houses.loc[ny_houses.broker.str.contains(\"Reo First Choice\"), \"broker\"] = \"Reo First Choice Realty\""
   ]
  },
  {
   "cell_type": "code",
   "execution_count": 62,
   "id": "7fbb5b1c-b5fd-4d1a-97fb-b873d40c9808",
   "metadata": {},
   "outputs": [],
   "source": [
    "ny_houses.loc[ny_houses.broker.str.contains(\"Robert Defalco\"), \"broker\"] = \"Robert Defalco Realty\""
   ]
  },
  {
   "cell_type": "code",
   "execution_count": 63,
   "id": "486d86df-1b66-40dd-97a0-8e436cc48670",
   "metadata": {},
   "outputs": [],
   "source": [
    "ny_houses.loc[ny_houses.broker.str.contains(\"Serhant\"), \"broker\"] = \"Serhant\""
   ]
  },
  {
   "cell_type": "code",
   "execution_count": 64,
   "id": "fe5ab977-51f7-4a4b-b305-eff91f8ac7d2",
   "metadata": {},
   "outputs": [],
   "source": [
    "ny_houses.loc[ny_houses.broker.str.contains(\"Ubiq\"), \"broker\"] = \"UBIQ NY\""
   ]
  },
  {
   "cell_type": "code",
   "execution_count": 65,
   "id": "1ecef2f4-76a6-4ea2-930c-74dfd508853b",
   "metadata": {},
   "outputs": [],
   "source": [
    "ny_houses.loc[ny_houses.broker.str.contains(\"Vylla Home\"), \"broker\"] = \"Vylla Homes\""
   ]
  },
  {
   "cell_type": "code",
   "execution_count": 66,
   "id": "3830e108-2bc9-4cbb-872b-4ed06a5ad688",
   "metadata": {},
   "outputs": [],
   "source": [
    "ny_houses.loc[(ny_houses.broker.str.contains(\"Weichert\")) & (~ny_houses.broker.str.contains(\"Properties\")), \"broker\"] = \"Weichert Realtors\""
   ]
  },
  {
   "cell_type": "code",
   "execution_count": 67,
   "id": "aa2f1c9f-0aaf-4c88-ad32-988b5847e89a",
   "metadata": {},
   "outputs": [],
   "source": [
    "ny_houses.loc[ny_houses.broker.str.contains(\"Welcome Home\"), \"broker\"] = \"Welcome Home Realty Network\""
   ]
  },
  {
   "cell_type": "code",
   "execution_count": 68,
   "id": "8405d1b5-2ab6-4e84-92ac-1c5c167dbe4e",
   "metadata": {},
   "outputs": [],
   "source": [
    "ny_houses.loc[ny_houses.broker.str.contains(\"Raveis\"), \"broker\"] = \"William Raveis Real Estate\""
   ]
  },
  {
   "cell_type": "code",
   "execution_count": 69,
   "id": "099fecd9-1421-4a1a-9e56-fe8798e2bf72",
   "metadata": {},
   "outputs": [],
   "source": [
    "ny_houses.loc[ny_houses.broker.str.contains(\"Yoreevo\"), \"broker\"] = \"Yoreevo\""
   ]
  },
  {
   "cell_type": "code",
   "execution_count": 70,
   "id": "47030ccc-88d2-4e4c-87ea-7bfe4908d39f",
   "metadata": {},
   "outputs": [],
   "source": [
    "ny_houses.loc[(ny_houses.broker.str.contains(\"Your Home Sold\") | ny_houses.broker.str.contains(\"Yourhomesold\")), \"broker\"] = \"Your Home Sold Guaranteed Realty\""
   ]
  },
  {
   "cell_type": "code",
   "execution_count": 71,
   "id": "0cb65317-5987-41b2-b931-7739e7d480da",
   "metadata": {},
   "outputs": [],
   "source": [
    "# ny_houses.loc[ny_houses.broker.str.contains(\"Brown Harris\"), \"broker\"].unique()"
   ]
  },
  {
   "cell_type": "code",
   "execution_count": 72,
   "id": "03c276ff-20b7-4b1d-8ed1-3604ffb07c1d",
   "metadata": {},
   "outputs": [],
   "source": [
    "# ny_houses.broker.nunique()"
   ]
  },
  {
   "cell_type": "code",
   "execution_count": 73,
   "id": "67119ad2-6352-4338-b29a-489882b21b18",
   "metadata": {},
   "outputs": [],
   "source": [
    "# ny_houses.broker.sort_values().unique()"
   ]
  },
  {
   "cell_type": "code",
   "execution_count": 74,
   "id": "4d73d63c-d06f-4dd5-87ba-a17f36346b38",
   "metadata": {},
   "outputs": [],
   "source": [
    "ny_houses[\"type\"] = ny_houses.type.str.replace(\"for sale\", \"\").str.replace(\"Condop\", \"Condo\")"
   ]
  },
  {
   "cell_type": "code",
   "execution_count": 75,
   "id": "3c6871e0-6cf0-4df1-960c-ec2fe9097643",
   "metadata": {},
   "outputs": [],
   "source": [
    "ny_houses = ny_houses[[\"broker\", \"locality\", \"sublocality\", \"suburb\", \"zip_code\", \n",
    "                       \"latitude\", \"longitude\", \"type\", \"price\", \"propertysqft\", \"beds\", \"bath\"]]"
   ]
  },
  {
   "cell_type": "code",
   "execution_count": 76,
   "id": "f1027160-3e96-451d-a94a-bf7ad1a24013",
   "metadata": {},
   "outputs": [],
   "source": [
    "# ny_houses.nlargest(5, \"price\")"
   ]
  },
  {
   "cell_type": "code",
   "execution_count": 77,
   "id": "3b70cd4c-fc2a-4966-9237-2e4d163bba9a",
   "metadata": {},
   "outputs": [
    {
     "name": "stderr",
     "output_type": "stream",
     "text": [
      "C:\\Users\\AlexSneddon\\AppData\\Local\\Temp\\ipykernel_22336\\2698838350.py:1: SettingWithCopyWarning: \n",
      "A value is trying to be set on a copy of a slice from a DataFrame\n",
      "\n",
      "See the caveats in the documentation: https://pandas.pydata.org/pandas-docs/stable/user_guide/indexing.html#returning-a-view-versus-a-copy\n",
      "  ny_houses.drop(index=[304, 622], inplace=True)\n"
     ]
    }
   ],
   "source": [
    "ny_houses.drop(index=[304, 622], inplace=True)"
   ]
  },
  {
   "cell_type": "code",
   "execution_count": 78,
   "id": "67c33948-10e0-4ec8-ace2-856a4047a6c5",
   "metadata": {},
   "outputs": [],
   "source": [
    "ny_houses.reset_index(drop=True, inplace=True)"
   ]
  },
  {
   "cell_type": "code",
   "execution_count": 79,
   "id": "cea9ede4-c836-4c30-8d2b-4df7e4f2672f",
   "metadata": {},
   "outputs": [
    {
     "data": {
      "text/html": [
       "<div>\n",
       "<style scoped>\n",
       "    .dataframe tbody tr th:only-of-type {\n",
       "        vertical-align: middle;\n",
       "    }\n",
       "\n",
       "    .dataframe tbody tr th {\n",
       "        vertical-align: top;\n",
       "    }\n",
       "\n",
       "    .dataframe thead th {\n",
       "        text-align: right;\n",
       "    }\n",
       "</style>\n",
       "<table border=\"1\" class=\"dataframe\">\n",
       "  <thead>\n",
       "    <tr style=\"text-align: right;\">\n",
       "      <th></th>\n",
       "      <th>broker</th>\n",
       "      <th>locality</th>\n",
       "      <th>sublocality</th>\n",
       "      <th>suburb</th>\n",
       "      <th>zip_code</th>\n",
       "      <th>latitude</th>\n",
       "      <th>longitude</th>\n",
       "      <th>type</th>\n",
       "      <th>price</th>\n",
       "      <th>propertysqft</th>\n",
       "      <th>beds</th>\n",
       "      <th>bath</th>\n",
       "    </tr>\n",
       "  </thead>\n",
       "  <tbody>\n",
       "    <tr>\n",
       "      <th>0</th>\n",
       "      <td>Douglas Elliman</td>\n",
       "      <td>New York</td>\n",
       "      <td>Manhattan</td>\n",
       "      <td>New York</td>\n",
       "      <td>10022</td>\n",
       "      <td>40.76</td>\n",
       "      <td>-73.97</td>\n",
       "      <td>Condo</td>\n",
       "      <td>315000</td>\n",
       "      <td>1400.00</td>\n",
       "      <td>2</td>\n",
       "      <td>2.00</td>\n",
       "    </tr>\n",
       "    <tr>\n",
       "      <th>1</th>\n",
       "      <td>Serhant</td>\n",
       "      <td>New York</td>\n",
       "      <td>New York County</td>\n",
       "      <td>New York</td>\n",
       "      <td>10019</td>\n",
       "      <td>40.77</td>\n",
       "      <td>-73.98</td>\n",
       "      <td>Condo</td>\n",
       "      <td>195000000</td>\n",
       "      <td>17545.00</td>\n",
       "      <td>7</td>\n",
       "      <td>10.00</td>\n",
       "    </tr>\n",
       "    <tr>\n",
       "      <th>2</th>\n",
       "      <td>Sowae Corp</td>\n",
       "      <td>New York</td>\n",
       "      <td>Richmond County</td>\n",
       "      <td>Staten Island</td>\n",
       "      <td>10312</td>\n",
       "      <td>40.54</td>\n",
       "      <td>-74.20</td>\n",
       "      <td>House</td>\n",
       "      <td>260000</td>\n",
       "      <td>2015.00</td>\n",
       "      <td>4</td>\n",
       "      <td>2.00</td>\n",
       "    </tr>\n",
       "    <tr>\n",
       "      <th>3</th>\n",
       "      <td>Compass</td>\n",
       "      <td>New York</td>\n",
       "      <td>New York County</td>\n",
       "      <td>Manhattan</td>\n",
       "      <td>10022</td>\n",
       "      <td>40.76</td>\n",
       "      <td>-73.97</td>\n",
       "      <td>Condo</td>\n",
       "      <td>69000</td>\n",
       "      <td>445.00</td>\n",
       "      <td>3</td>\n",
       "      <td>1.00</td>\n",
       "    </tr>\n",
       "    <tr>\n",
       "      <th>4</th>\n",
       "      <td>Sotheby's International Realty</td>\n",
       "      <td>New York</td>\n",
       "      <td>New York County</td>\n",
       "      <td>New York</td>\n",
       "      <td>10065</td>\n",
       "      <td>40.77</td>\n",
       "      <td>-73.97</td>\n",
       "      <td>Townhouse</td>\n",
       "      <td>55000000</td>\n",
       "      <td>14175.00</td>\n",
       "      <td>7</td>\n",
       "      <td>2.37</td>\n",
       "    </tr>\n",
       "    <tr>\n",
       "      <th>...</th>\n",
       "      <td>...</td>\n",
       "      <td>...</td>\n",
       "      <td>...</td>\n",
       "      <td>...</td>\n",
       "      <td>...</td>\n",
       "      <td>...</td>\n",
       "      <td>...</td>\n",
       "      <td>...</td>\n",
       "      <td>...</td>\n",
       "      <td>...</td>\n",
       "      <td>...</td>\n",
       "      <td>...</td>\n",
       "    </tr>\n",
       "    <tr>\n",
       "      <th>4579</th>\n",
       "      <td>Compass</td>\n",
       "      <td>New York County</td>\n",
       "      <td>New York</td>\n",
       "      <td>Manhattan</td>\n",
       "      <td>10075</td>\n",
       "      <td>40.77</td>\n",
       "      <td>-73.96</td>\n",
       "      <td>Co-op</td>\n",
       "      <td>599000</td>\n",
       "      <td>2184.21</td>\n",
       "      <td>1</td>\n",
       "      <td>1.00</td>\n",
       "    </tr>\n",
       "    <tr>\n",
       "      <th>4580</th>\n",
       "      <td>Mjr Real Estate Llc</td>\n",
       "      <td>New York</td>\n",
       "      <td>Queens County</td>\n",
       "      <td>Rego Park</td>\n",
       "      <td>11374</td>\n",
       "      <td>40.73</td>\n",
       "      <td>-73.86</td>\n",
       "      <td>Co-op</td>\n",
       "      <td>245000</td>\n",
       "      <td>2184.21</td>\n",
       "      <td>1</td>\n",
       "      <td>1.00</td>\n",
       "    </tr>\n",
       "    <tr>\n",
       "      <th>4581</th>\n",
       "      <td>Douglas Elliman</td>\n",
       "      <td>New York</td>\n",
       "      <td>New York County</td>\n",
       "      <td>New York</td>\n",
       "      <td>10011</td>\n",
       "      <td>40.75</td>\n",
       "      <td>-74.00</td>\n",
       "      <td>Co-op</td>\n",
       "      <td>1275000</td>\n",
       "      <td>2184.21</td>\n",
       "      <td>1</td>\n",
       "      <td>1.00</td>\n",
       "    </tr>\n",
       "    <tr>\n",
       "      <th>4582</th>\n",
       "      <td>E Realty International Corp</td>\n",
       "      <td>Queens County</td>\n",
       "      <td>Queens</td>\n",
       "      <td>Elmhurst</td>\n",
       "      <td>11373</td>\n",
       "      <td>40.74</td>\n",
       "      <td>-73.87</td>\n",
       "      <td>Condo</td>\n",
       "      <td>598125</td>\n",
       "      <td>655.00</td>\n",
       "      <td>2</td>\n",
       "      <td>1.00</td>\n",
       "    </tr>\n",
       "    <tr>\n",
       "      <th>4583</th>\n",
       "      <td>Nyc Realty Brokers Llc</td>\n",
       "      <td>Kings County</td>\n",
       "      <td>Brooklyn</td>\n",
       "      <td>Brooklyn</td>\n",
       "      <td>11224</td>\n",
       "      <td>40.58</td>\n",
       "      <td>-73.97</td>\n",
       "      <td>Co-op</td>\n",
       "      <td>349000</td>\n",
       "      <td>750.00</td>\n",
       "      <td>1</td>\n",
       "      <td>1.00</td>\n",
       "    </tr>\n",
       "  </tbody>\n",
       "</table>\n",
       "<p>4584 rows × 12 columns</p>\n",
       "</div>"
      ],
      "text/plain": [
       "                              broker         locality      sublocality  \\\n",
       "0                    Douglas Elliman         New York        Manhattan   \n",
       "1                            Serhant         New York  New York County   \n",
       "2                         Sowae Corp         New York  Richmond County   \n",
       "3                            Compass         New York  New York County   \n",
       "4     Sotheby's International Realty         New York  New York County   \n",
       "...                              ...              ...              ...   \n",
       "4579                         Compass  New York County         New York   \n",
       "4580             Mjr Real Estate Llc         New York    Queens County   \n",
       "4581                 Douglas Elliman         New York  New York County   \n",
       "4582     E Realty International Corp    Queens County           Queens   \n",
       "4583          Nyc Realty Brokers Llc     Kings County         Brooklyn   \n",
       "\n",
       "             suburb zip_code  latitude  longitude        type      price  \\\n",
       "0          New York    10022     40.76     -73.97      Condo      315000   \n",
       "1          New York    10019     40.77     -73.98      Condo   195000000   \n",
       "2     Staten Island    10312     40.54     -74.20      House      260000   \n",
       "3         Manhattan    10022     40.76     -73.97      Condo       69000   \n",
       "4          New York    10065     40.77     -73.97  Townhouse    55000000   \n",
       "...             ...      ...       ...        ...         ...        ...   \n",
       "4579      Manhattan    10075     40.77     -73.96      Co-op      599000   \n",
       "4580      Rego Park    11374     40.73     -73.86      Co-op      245000   \n",
       "4581       New York    10011     40.75     -74.00      Co-op     1275000   \n",
       "4582       Elmhurst    11373     40.74     -73.87      Condo      598125   \n",
       "4583       Brooklyn    11224     40.58     -73.97      Co-op      349000   \n",
       "\n",
       "      propertysqft  beds  bath  \n",
       "0          1400.00     2  2.00  \n",
       "1         17545.00     7 10.00  \n",
       "2          2015.00     4  2.00  \n",
       "3           445.00     3  1.00  \n",
       "4         14175.00     7  2.37  \n",
       "...            ...   ...   ...  \n",
       "4579       2184.21     1  1.00  \n",
       "4580       2184.21     1  1.00  \n",
       "4581       2184.21     1  1.00  \n",
       "4582        655.00     2  1.00  \n",
       "4583        750.00     1  1.00  \n",
       "\n",
       "[4584 rows x 12 columns]"
      ]
     },
     "execution_count": 79,
     "metadata": {},
     "output_type": "execute_result"
    }
   ],
   "source": [
    "ny_houses"
   ]
  },
  {
   "cell_type": "code",
   "execution_count": 80,
   "id": "ce63408f-9525-4114-a705-8c6d477bcca8",
   "metadata": {},
   "outputs": [],
   "source": [
    "zipcodes = pd.read_csv(\"zip_code_database.csv\")"
   ]
  },
  {
   "cell_type": "code",
   "execution_count": 81,
   "id": "0f5f4ec0-4363-4d63-8a0d-f8c0b88bb45b",
   "metadata": {},
   "outputs": [],
   "source": [
    "ny_mask = zipcodes.state == \"NY\"\n",
    "ziptype_mask = zipcodes.type == \"STANDARD\""
   ]
  },
  {
   "cell_type": "code",
   "execution_count": 82,
   "id": "f248a422-92a6-46b9-9373-f7a642a8f62f",
   "metadata": {},
   "outputs": [],
   "source": [
    "ny_zc = zipcodes.loc[ny_mask & ziptype_mask].reset_index(drop=True)"
   ]
  },
  {
   "cell_type": "code",
   "execution_count": 83,
   "id": "8fed9776-84f6-4c77-a291-29e1294e30fb",
   "metadata": {},
   "outputs": [],
   "source": [
    "ny_zc = ny_zc.drop(columns=[\"unacceptable_cities\", \"area_codes\", \"timezone\", \"world_region\", \n",
    "                   \"country\", \"decommissioned\", \"latitude\", \"longitude\", \"acceptable_cities\"])"
   ]
  },
  {
   "cell_type": "code",
   "execution_count": 84,
   "id": "edfaee0e-57d6-461c-9a0e-c0244936cc2f",
   "metadata": {},
   "outputs": [],
   "source": [
    "zc_list = pd.Series(ny_zc.zip.unique())"
   ]
  },
  {
   "cell_type": "code",
   "execution_count": 85,
   "id": "70a8594f-9335-4a83-8b90-1a064a2706f4",
   "metadata": {},
   "outputs": [],
   "source": [
    "ny_houses = ny_houses.astype({\"zip_code\":\"int64\"})"
   ]
  },
  {
   "cell_type": "code",
   "execution_count": 86,
   "id": "b257aa5c-a455-48d2-b1f6-4fc8c81f6688",
   "metadata": {},
   "outputs": [
    {
     "data": {
      "text/html": [
       "<div>\n",
       "<style scoped>\n",
       "    .dataframe tbody tr th:only-of-type {\n",
       "        vertical-align: middle;\n",
       "    }\n",
       "\n",
       "    .dataframe tbody tr th {\n",
       "        vertical-align: top;\n",
       "    }\n",
       "\n",
       "    .dataframe thead th {\n",
       "        text-align: right;\n",
       "    }\n",
       "</style>\n",
       "<table border=\"1\" class=\"dataframe\">\n",
       "  <thead>\n",
       "    <tr style=\"text-align: right;\">\n",
       "      <th></th>\n",
       "      <th>broker</th>\n",
       "      <th>locality</th>\n",
       "      <th>sublocality</th>\n",
       "      <th>suburb</th>\n",
       "      <th>zip_code</th>\n",
       "      <th>latitude</th>\n",
       "      <th>longitude</th>\n",
       "      <th>type</th>\n",
       "      <th>price</th>\n",
       "      <th>propertysqft</th>\n",
       "      <th>beds</th>\n",
       "      <th>bath</th>\n",
       "    </tr>\n",
       "  </thead>\n",
       "  <tbody>\n",
       "  </tbody>\n",
       "</table>\n",
       "</div>"
      ],
      "text/plain": [
       "Empty DataFrame\n",
       "Columns: [broker, locality, sublocality, suburb, zip_code, latitude, longitude, type, price, propertysqft, beds, bath]\n",
       "Index: []"
      ]
     },
     "execution_count": 86,
     "metadata": {},
     "output_type": "execute_result"
    }
   ],
   "source": [
    "ny_houses.loc[~ny_houses.zip_code.isin(zc_list)]"
   ]
  },
  {
   "cell_type": "code",
   "execution_count": 87,
   "id": "308a488f-1ae0-4a47-a387-05026a679991",
   "metadata": {},
   "outputs": [],
   "source": [
    "# ny_zc.county.value_counts()"
   ]
  },
  {
   "cell_type": "code",
   "execution_count": 88,
   "id": "8b2e4789-f7eb-4527-8af3-5283e84771e6",
   "metadata": {},
   "outputs": [],
   "source": [
    "# ny_houses.locality.value_counts()"
   ]
  },
  {
   "cell_type": "code",
   "execution_count": 89,
   "id": "e462338f-bb50-4f51-8f74-725e495dbd1f",
   "metadata": {},
   "outputs": [],
   "source": [
    "# ny_houses.locality.value_counts()"
   ]
  },
  {
   "cell_type": "code",
   "execution_count": 90,
   "id": "f20b6b9d-0426-4fff-b14d-0367a4689403",
   "metadata": {},
   "outputs": [],
   "source": [
    "# ny_houses.suburb.value_counts()"
   ]
  },
  {
   "cell_type": "code",
   "execution_count": 91,
   "id": "c79cd043-467f-4352-bf50-876c3f5a12cf",
   "metadata": {},
   "outputs": [
    {
     "data": {
      "text/html": [
       "<div>\n",
       "<style scoped>\n",
       "    .dataframe tbody tr th:only-of-type {\n",
       "        vertical-align: middle;\n",
       "    }\n",
       "\n",
       "    .dataframe tbody tr th {\n",
       "        vertical-align: top;\n",
       "    }\n",
       "\n",
       "    .dataframe thead th {\n",
       "        text-align: right;\n",
       "    }\n",
       "</style>\n",
       "<table border=\"1\" class=\"dataframe\">\n",
       "  <thead>\n",
       "    <tr style=\"text-align: right;\">\n",
       "      <th></th>\n",
       "      <th>broker</th>\n",
       "      <th>locality</th>\n",
       "      <th>sublocality</th>\n",
       "      <th>suburb</th>\n",
       "      <th>zip_code</th>\n",
       "      <th>latitude</th>\n",
       "      <th>longitude</th>\n",
       "      <th>type</th>\n",
       "      <th>price</th>\n",
       "      <th>propertysqft</th>\n",
       "      <th>beds</th>\n",
       "      <th>bath</th>\n",
       "    </tr>\n",
       "  </thead>\n",
       "  <tbody>\n",
       "    <tr>\n",
       "      <th>0</th>\n",
       "      <td>Douglas Elliman</td>\n",
       "      <td>New York</td>\n",
       "      <td>Manhattan</td>\n",
       "      <td>New York</td>\n",
       "      <td>10022</td>\n",
       "      <td>40.76</td>\n",
       "      <td>-73.97</td>\n",
       "      <td>Condo</td>\n",
       "      <td>315000</td>\n",
       "      <td>1400.00</td>\n",
       "      <td>2</td>\n",
       "      <td>2.00</td>\n",
       "    </tr>\n",
       "    <tr>\n",
       "      <th>1</th>\n",
       "      <td>Serhant</td>\n",
       "      <td>New York</td>\n",
       "      <td>New York County</td>\n",
       "      <td>New York</td>\n",
       "      <td>10019</td>\n",
       "      <td>40.77</td>\n",
       "      <td>-73.98</td>\n",
       "      <td>Condo</td>\n",
       "      <td>195000000</td>\n",
       "      <td>17545.00</td>\n",
       "      <td>7</td>\n",
       "      <td>10.00</td>\n",
       "    </tr>\n",
       "  </tbody>\n",
       "</table>\n",
       "</div>"
      ],
      "text/plain": [
       "            broker  locality      sublocality    suburb  zip_code  latitude  \\\n",
       "0  Douglas Elliman  New York        Manhattan  New York     10022     40.76   \n",
       "1          Serhant  New York  New York County  New York     10019     40.77   \n",
       "\n",
       "   longitude    type      price  propertysqft  beds  bath  \n",
       "0     -73.97  Condo      315000       1400.00     2  2.00  \n",
       "1     -73.98  Condo   195000000      17545.00     7 10.00  "
      ]
     },
     "execution_count": 91,
     "metadata": {},
     "output_type": "execute_result"
    }
   ],
   "source": [
    "ny_houses.head(2)"
   ]
  },
  {
   "cell_type": "code",
   "execution_count": 92,
   "id": "06ef7874-a554-4dab-ae48-7677623810c1",
   "metadata": {},
   "outputs": [
    {
     "data": {
      "text/html": [
       "<div>\n",
       "<style scoped>\n",
       "    .dataframe tbody tr th:only-of-type {\n",
       "        vertical-align: middle;\n",
       "    }\n",
       "\n",
       "    .dataframe tbody tr th {\n",
       "        vertical-align: top;\n",
       "    }\n",
       "\n",
       "    .dataframe thead th {\n",
       "        text-align: right;\n",
       "    }\n",
       "</style>\n",
       "<table border=\"1\" class=\"dataframe\">\n",
       "  <thead>\n",
       "    <tr style=\"text-align: right;\">\n",
       "      <th></th>\n",
       "      <th>zip</th>\n",
       "      <th>type</th>\n",
       "      <th>primary_city</th>\n",
       "      <th>state</th>\n",
       "      <th>county</th>\n",
       "      <th>irs_estimated_population</th>\n",
       "    </tr>\n",
       "  </thead>\n",
       "  <tbody>\n",
       "    <tr>\n",
       "      <th>0</th>\n",
       "      <td>10001</td>\n",
       "      <td>STANDARD</td>\n",
       "      <td>New York</td>\n",
       "      <td>NY</td>\n",
       "      <td>New York County</td>\n",
       "      <td>20850</td>\n",
       "    </tr>\n",
       "    <tr>\n",
       "      <th>1</th>\n",
       "      <td>10002</td>\n",
       "      <td>STANDARD</td>\n",
       "      <td>New York</td>\n",
       "      <td>NY</td>\n",
       "      <td>New York County</td>\n",
       "      <td>62890</td>\n",
       "    </tr>\n",
       "  </tbody>\n",
       "</table>\n",
       "</div>"
      ],
      "text/plain": [
       "     zip      type primary_city state           county  \\\n",
       "0  10001  STANDARD     New York    NY  New York County   \n",
       "1  10002  STANDARD     New York    NY  New York County   \n",
       "\n",
       "   irs_estimated_population  \n",
       "0                     20850  \n",
       "1                     62890  "
      ]
     },
     "execution_count": 92,
     "metadata": {},
     "output_type": "execute_result"
    }
   ],
   "source": [
    "ny_zc.head(2)"
   ]
  },
  {
   "cell_type": "code",
   "execution_count": 93,
   "id": "6236eae2-399b-45af-9161-d269ce7cba78",
   "metadata": {},
   "outputs": [],
   "source": [
    "prim_city = dict(zip(ny_zc.zip, ny_zc.primary_city))"
   ]
  },
  {
   "cell_type": "code",
   "execution_count": 94,
   "id": "22bbca74-2804-4087-8d8d-8ff6f671c129",
   "metadata": {},
   "outputs": [],
   "source": [
    "ny_houses[\"suburb\"] = ny_houses.zip_code.map(prim_city)"
   ]
  },
  {
   "cell_type": "code",
   "execution_count": 95,
   "id": "55bc7af8-f1b1-4f27-9968-17163c932327",
   "metadata": {},
   "outputs": [],
   "source": [
    "zip_county = dict(zip(ny_zc.zip, ny_zc.county))"
   ]
  },
  {
   "cell_type": "code",
   "execution_count": 96,
   "id": "87ed654a-ab29-4e29-8dd6-93c28c1b8a62",
   "metadata": {},
   "outputs": [],
   "source": [
    "ny_houses[\"locality\"] = ny_houses.zip_code.map(zip_county)"
   ]
  },
  {
   "cell_type": "code",
   "execution_count": 97,
   "id": "e90e8082-1229-4c44-8f9a-95c39d0f65fd",
   "metadata": {},
   "outputs": [
    {
     "data": {
      "text/plain": [
       "locality\n",
       "New York County    1225\n",
       "Queens County      1194\n",
       "Kings County       1159\n",
       "Richmond County     526\n",
       "Bronx County        473\n",
       "Nassau County         7\n",
       "Name: count, dtype: int64"
      ]
     },
     "execution_count": 97,
     "metadata": {},
     "output_type": "execute_result"
    }
   ],
   "source": [
    "ny_houses.locality.value_counts()"
   ]
  },
  {
   "cell_type": "code",
   "execution_count": 98,
   "id": "af16da36-11a7-458e-accc-ee4d76cf6638",
   "metadata": {},
   "outputs": [
    {
     "data": {
      "text/plain": [
       "sublocality\n",
       "New York            965\n",
       "Kings County        696\n",
       "Queens County       655\n",
       "Queens              534\n",
       "Richmond County     460\n",
       "Brooklyn            442\n",
       "Bronx County        291\n",
       "New York County     271\n",
       "The Bronx           174\n",
       "Staten Island        58\n",
       "Manhattan            21\n",
       "Flushing              4\n",
       "Coney Island          3\n",
       "Riverdale             3\n",
       "East Bronx            1\n",
       "Brooklyn Heights      1\n",
       "Jackson Heights       1\n",
       "Rego Park             1\n",
       "Fort Hamilton         1\n",
       "Dumbo                 1\n",
       "Snyder Avenue         1\n",
       "Name: count, dtype: int64"
      ]
     },
     "execution_count": 98,
     "metadata": {},
     "output_type": "execute_result"
    }
   ],
   "source": [
    "ny_houses.sublocality.value_counts()"
   ]
  },
  {
   "cell_type": "code",
   "execution_count": 99,
   "id": "f4fd47f8-5da5-4bf0-92f5-1a5be5272de9",
   "metadata": {},
   "outputs": [],
   "source": [
    "ny_houses.drop(columns=[\"sublocality\", \"longitude\", \"latitude\"], inplace=True)"
   ]
  },
  {
   "cell_type": "code",
   "execution_count": 100,
   "id": "27163a3d-3d5a-4be3-84d6-72e5b96f4a7e",
   "metadata": {},
   "outputs": [],
   "source": [
    "ny_houses = ny_houses.assign(cost_per_sqft = ny_houses[\"price\"]/ny_houses[\"propertysqft\"])"
   ]
  },
  {
   "cell_type": "code",
   "execution_count": 101,
   "id": "4d03e233-866d-4c8b-9f9c-0760cb1f0888",
   "metadata": {},
   "outputs": [],
   "source": [
    "ny_houses[\"type\"] = ny_houses.type.str.strip()"
   ]
  },
  {
   "cell_type": "code",
   "execution_count": 102,
   "id": "4ebf4df3-b01c-4d83-b514-24e82b4bff3d",
   "metadata": {},
   "outputs": [],
   "source": [
    "ny_houses.to_csv(\"ny_houses_clean.csv\", index=False)"
   ]
  },
  {
   "cell_type": "code",
   "execution_count": null,
   "id": "3007153b-09f5-47f0-b343-380441639c29",
   "metadata": {},
   "outputs": [],
   "source": []
  }
 ],
 "metadata": {
  "kernelspec": {
   "display_name": "Python 3 (ipykernel)",
   "language": "python",
   "name": "python3"
  },
  "language_info": {
   "codemirror_mode": {
    "name": "ipython",
    "version": 3
   },
   "file_extension": ".py",
   "mimetype": "text/x-python",
   "name": "python",
   "nbconvert_exporter": "python",
   "pygments_lexer": "ipython3",
   "version": "3.11.8"
  }
 },
 "nbformat": 4,
 "nbformat_minor": 5
}
